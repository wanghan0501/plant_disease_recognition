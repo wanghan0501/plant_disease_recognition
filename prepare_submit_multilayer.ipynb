{
 "cells": [
  {
   "cell_type": "code",
   "execution_count": 1,
   "metadata": {},
   "outputs": [],
   "source": [
    "import pandas as pd\n",
    "import os\n",
    "import torch\n",
    "from utils.parse import parse_yaml\n",
    "import json\n",
    "import numpy as np\n",
    "from models.resnet50v2_sn_model import Model\n",
    "from tqdm import tqdm\n",
    "from PIL import Image\n",
    "from datetime import datetime\n",
    "from torchvision import datasets, transforms\n",
    "from torch.utils.data import DataLoader\n",
    "tqdm.monitor_interval = 0\n",
    "\n",
    "os.environ['CUDA_VISIBLE_DEVICES'] = '0'"
   ]
  },
  {
   "cell_type": "markdown",
   "metadata": {},
   "source": [
    "# load config"
   ]
  },
  {
   "cell_type": "code",
   "execution_count": 4,
   "metadata": {},
   "outputs": [],
   "source": [
    "config = parse_yaml()"
   ]
  },
  {
   "cell_type": "markdown",
   "metadata": {},
   "source": [
    "# load species model"
   ]
  },
  {
   "cell_type": "code",
   "execution_count": 7,
   "metadata": {},
   "outputs": [
    {
     "name": "stdout",
     "output_type": "stream",
     "text": [
      ">>> Load model completion.\n"
     ]
    }
   ],
   "source": [
    "whole_config = config['species']\n",
    "whole_config['logger']=False\n",
    "whole_config['use_tensorboard']=False\n",
    "species_model = Model(whole_config)\n",
    "species_model.load('multi_task_ckpt/species/2018Oct16-183710/33.pth')"
   ]
  },
  {
   "cell_type": "markdown",
   "metadata": {},
   "source": [
    "# load apple model"
   ]
  },
  {
   "cell_type": "code",
   "execution_count": 8,
   "metadata": {},
   "outputs": [
    {
     "name": "stdout",
     "output_type": "stream",
     "text": [
      ">>> Load model completion.\n"
     ]
    }
   ],
   "source": [
    "apple_config = config['apple']\n",
    "apple_config['logger']=False\n",
    "apple_config['use_tensorboard']=False\n",
    "apple_model = Model(apple_config)\n",
    "apple_model.load('multi_task_ckpt/apple/2018Oct17-110146/78.pth')"
   ]
  },
  {
   "cell_type": "markdown",
   "metadata": {},
   "source": [
    "# load cherry model"
   ]
  },
  {
   "cell_type": "code",
   "execution_count": 9,
   "metadata": {},
   "outputs": [
    {
     "name": "stdout",
     "output_type": "stream",
     "text": [
      ">>> Load model completion.\n"
     ]
    }
   ],
   "source": [
    "cherry_config = config['cherry']\n",
    "cherry_config['logger']=False\n",
    "cherry_config['use_tensorboard']=False\n",
    "cherry_model = Model(cherry_config)\n",
    "cherry_model.load('multi_task_ckpt/cherry/2018Oct17-133954/67.pth')"
   ]
  },
  {
   "cell_type": "markdown",
   "metadata": {},
   "source": [
    "# load corn model"
   ]
  },
  {
   "cell_type": "code",
   "execution_count": 10,
   "metadata": {},
   "outputs": [
    {
     "name": "stdout",
     "output_type": "stream",
     "text": [
      ">>> Load model completion.\n"
     ]
    }
   ],
   "source": [
    "corn_config = config['corn']\n",
    "corn_config['logger']=False\n",
    "corn_config['use_tensorboard']=False\n",
    "corn_model = Model(corn_config)\n",
    "corn_model.load('multi_task_ckpt/corn/2018Oct17-142625/21.pth')"
   ]
  },
  {
   "cell_type": "markdown",
   "metadata": {},
   "source": [
    "# load grape model"
   ]
  },
  {
   "cell_type": "code",
   "execution_count": 11,
   "metadata": {},
   "outputs": [
    {
     "name": "stdout",
     "output_type": "stream",
     "text": [
      ">>> Load model completion.\n"
     ]
    }
   ],
   "source": [
    "grape_config = config['grape']\n",
    "grape_config['logger']=False\n",
    "grape_config['use_tensorboard']=False\n",
    "grape_model = Model(grape_config)\n",
    "grape_model.load('multi_task_ckpt/grape/2018Oct17-223134/191.pth')"
   ]
  },
  {
   "cell_type": "markdown",
   "metadata": {},
   "source": [
    "# load citrus model"
   ]
  },
  {
   "cell_type": "code",
   "execution_count": 12,
   "metadata": {},
   "outputs": [
    {
     "name": "stdout",
     "output_type": "stream",
     "text": [
      ">>> Load model completion.\n"
     ]
    }
   ],
   "source": [
    "citrus_config = config['citrus']\n",
    "citrus_config['logger']=False\n",
    "citrus_config['use_tensorboard']=False\n",
    "citrus_model = Model(citrus_config)\n",
    "citrus_model.load('multi_task_ckpt/citrus/2018Oct17-223331/9.pth')"
   ]
  },
  {
   "cell_type": "markdown",
   "metadata": {},
   "source": [
    "# load peach model"
   ]
  },
  {
   "cell_type": "code",
   "execution_count": 13,
   "metadata": {},
   "outputs": [
    {
     "name": "stdout",
     "output_type": "stream",
     "text": [
      ">>> Load model completion.\n"
     ]
    }
   ],
   "source": [
    "peach_config = config['peach']\n",
    "peach_config['logger']=False\n",
    "peach_config['use_tensorboard']=False\n",
    "peach_model = Model(peach_config)\n",
    "peach_model.load('multi_task_ckpt/peach/2018Oct18-095249/49.pth')"
   ]
  },
  {
   "cell_type": "markdown",
   "metadata": {},
   "source": [
    "# load pepper model"
   ]
  },
  {
   "cell_type": "code",
   "execution_count": 14,
   "metadata": {},
   "outputs": [
    {
     "name": "stdout",
     "output_type": "stream",
     "text": [
      ">>> Load model completion.\n"
     ]
    }
   ],
   "source": [
    "pepper_config = config['pepper']\n",
    "pepper_config['logger']=False\n",
    "pepper_config['use_tensorboard']=False\n",
    "pepper_model = Model(pepper_config)\n",
    "pepper_model.load('multi_task_ckpt/pepper/2018Oct18-143331/55.pth')"
   ]
  },
  {
   "cell_type": "markdown",
   "metadata": {},
   "source": [
    "# load potato model"
   ]
  },
  {
   "cell_type": "code",
   "execution_count": 15,
   "metadata": {},
   "outputs": [
    {
     "name": "stdout",
     "output_type": "stream",
     "text": [
      ">>> Load model completion.\n"
     ]
    }
   ],
   "source": [
    "potato_config = config['potato']\n",
    "potato_config['logger']=False\n",
    "potato_config['use_tensorboard']=False\n",
    "potato_model = Model(potato_config)\n",
    "potato_model.load('multi_task_ckpt/potato/2018Oct18-133900/15.pth')"
   ]
  },
  {
   "cell_type": "markdown",
   "metadata": {},
   "source": [
    "# load strawberry model"
   ]
  },
  {
   "cell_type": "code",
   "execution_count": 16,
   "metadata": {},
   "outputs": [
    {
     "name": "stdout",
     "output_type": "stream",
     "text": [
      ">>> Load model completion.\n"
     ]
    }
   ],
   "source": [
    "strawberry_config = config['strawberry']\n",
    "strawberry_config['logger']=False\n",
    "strawberry_config['use_tensorboard']=False\n",
    "strawberry_model = Model(strawberry_config)\n",
    "strawberry_model.load('multi_task_ckpt/strawberry/2018Oct18-134116/25.pth')"
   ]
  },
  {
   "cell_type": "markdown",
   "metadata": {},
   "source": [
    "# load tomato model"
   ]
  },
  {
   "cell_type": "code",
   "execution_count": 17,
   "metadata": {},
   "outputs": [
    {
     "name": "stdout",
     "output_type": "stream",
     "text": [
      ">>> Load model completion.\n"
     ]
    }
   ],
   "source": [
    "tomato_config = config['tomato']\n",
    "tomato_config['logger']=False\n",
    "tomato_config['use_tensorboard']=False\n",
    "tomato_model = Model(tomato_config)\n",
    "tomato_model.load('multi_task_ckpt/tomato/2018Oct18-152343/28.pth')"
   ]
  },
  {
   "cell_type": "markdown",
   "metadata": {},
   "source": [
    "# validation "
   ]
  },
  {
   "cell_type": "code",
   "execution_count": 26,
   "metadata": {},
   "outputs": [
    {
     "name": "stderr",
     "output_type": "stream",
     "text": [
      "Processing 9c969fa3-09f8-4d4e-bd3d-77f009602d39___RS_HL 2037.JPG, Prediction 38, True38: 100%|██████████| 4982/4982 [07:04<00:00, 11.74it/s]               "
     ]
    },
    {
     "name": "stdout",
     "output_type": "stream",
     "text": [
      "Validation Accuracy: 0.8221597751906865\n"
     ]
    },
    {
     "name": "stderr",
     "output_type": "stream",
     "text": [
      "\n"
     ]
    }
   ],
   "source": [
    "validate_data = pd.read_json(\n",
    "    'data/ai_challenger_pdr2018_validationset_20180905/AgriculturalDisease_validationset/AgriculturalDisease_validation_annotations.json')\n",
    "path = 'data/ai_challenger_pdr2018_validationset_20180905/AgriculturalDisease_validationset/images'\n",
    "count = 0\n",
    "with tqdm(total=len(validate_data)) as pbar:\n",
    "    for idx, row in validate_data.iterrows():\n",
    "        img_path = os.path.join(path, row.image_id)\n",
    "        img = Image.open(img_path)\n",
    "        compose = transforms.Compose([\n",
    "            transforms.Resize([224, 224]),\n",
    "            transforms.ToTensor(),\n",
    "            transforms.Normalize(\n",
    "                mean=[0.39883098, 0.48478258, 0.46141425],\n",
    "                std=[0.21294028, 0.17201832, 0.1934495])\n",
    "        ])\n",
    "        img1 = image.transpose(Image.FLIP_LEFT_RIGHT)\n",
    "        img2 = image.transpose(Image.FLIP_TOP_BOTTOM)\n",
    "        imgs = [compose(img), compose(img1), compose(img2)]\n",
    "        imgs_tensor = torch.stack(imgs)\n",
    "        imgs_tensor = imgs_tensor[None, :, :, :, :]\n",
    "\n",
    "        species_res = species_model.test(imgs_tensor).cpu().data.numpy()\n",
    "        species_pred_class = int(np.argmax(species_res, axis=1)[0])\n",
    "\n",
    "        # apple\n",
    "        if species_pred_class == 0:\n",
    "            res = apple_model.test(imgs_tensor).cpu().data.numpy()\n",
    "            pred_class = int(np.argmax(res, axis=1)[0])\n",
    "            pred_class = pred_class + 0\n",
    "            if pred_class == row.disease_class:\n",
    "                count = count + 1\n",
    "        # cherry\n",
    "        elif species_pred_class == 1:\n",
    "            res = cherry_model.test(imgs_tensor).cpu().data.numpy()\n",
    "            pred_class = int(np.argmax(res, axis=1)[0])\n",
    "            pred_class = pred_class + 6\n",
    "            if pred_class == row.disease_class:\n",
    "                count = count + 1\n",
    "        # corn\n",
    "        elif species_pred_class == 2:\n",
    "            res = corn_model.test(imgs_tensor).cpu().data.numpy()\n",
    "            pred_class = int(np.argmax(res, axis=1)[0])\n",
    "            pred_class = pred_class + 9\n",
    "            if pred_class == row.disease_class:\n",
    "                count = count + 1\n",
    "        # grape\n",
    "        elif species_pred_class == 3:\n",
    "            res = grape_model.test(imgs_tensor).cpu().data.numpy()\n",
    "            pred_class = int(np.argmax(res, axis=1)[0])\n",
    "            pred_class = pred_class + 17\n",
    "            if pred_class == row.disease_class:\n",
    "                count = count + 1\n",
    "        # citrus\n",
    "        elif species_pred_class == 4:\n",
    "            res = citrus_model.test(imgs_tensor).cpu().data.numpy()\n",
    "            pred_class = int(np.argmax(res, axis=1)[0])\n",
    "            pred_class = pred_class + 24\n",
    "            if pred_class == row.disease_class:\n",
    "                count = count + 1\n",
    "        # peach\n",
    "        elif species_pred_class == 5:\n",
    "            res = peach_model.test(imgs_tensor).cpu().data.numpy()\n",
    "            pred_class = int(np.argmax(res, axis=1)[0])\n",
    "            pred_class = pred_class + 27\n",
    "            if pred_class == row.disease_class:\n",
    "                count = count + 1\n",
    "        # pepper\n",
    "        elif species_pred_class == 6:\n",
    "            res = pepper_model.test(imgs_tensor).cpu().data.numpy()\n",
    "            pred_class = int(np.argmax(res, axis=1)[0])\n",
    "            pred_class = pred_class + 30\n",
    "            if pred_class == row.disease_class:\n",
    "                count = count + 1\n",
    "        # potato\n",
    "        elif species_pred_class == 7:\n",
    "            res = potato_model.test(imgs_tensor).cpu().data.numpy()\n",
    "            pred_class = int(np.argmax(res, axis=1)[0])\n",
    "            pred_class = pred_class + 33\n",
    "            if pred_class == row.disease_class:\n",
    "                count = count + 1\n",
    "        # strawberry\n",
    "        elif species_pred_class == 8:\n",
    "            res = strawberry_model.test(imgs_tensor).cpu().data.numpy()\n",
    "            pred_class = int(np.argmax(res, axis=1)[0])\n",
    "            pred_class = pred_class + 38\n",
    "            if pred_class == row.disease_class:\n",
    "                count = count + 1\n",
    "         # tomato\n",
    "        elif species_pred_class == 9:\n",
    "            res = tomato_model.test(imgs_tensor).cpu().data.numpy()\n",
    "            pred_class = int(np.argmax(res, axis=1)[0])\n",
    "            pred_class = pred_class + 41\n",
    "            if pred_class == row.disease_class:\n",
    "                count = count + 1\n",
    "\n",
    "        pbar.update(1)\n",
    "        pbar.set_description(\n",
    "            \"Processing {}, Prediction {}, True{}\".format(row.image_id, pred_class, row.disease_class))\n",
    "acc = count/len(validate_data)\n",
    "print(\"Validation Accuracy: {}\".format(acc))"
   ]
  },
  {
   "cell_type": "markdown",
   "metadata": {},
   "source": [
    "# evaluation"
   ]
  },
  {
   "cell_type": "code",
   "execution_count": 27,
   "metadata": {},
   "outputs": [
    {
     "name": "stderr",
     "output_type": "stream",
     "text": [
      "Processing ab916331-4f8d-4993-a333-85503ad30362___FAM_B.Msls 4165.JPG, Prediction 21: 100%|██████████| 4959/4959 [07:10<00:00, 11.52it/s]              \n"
     ]
    }
   ],
   "source": [
    "res_json = []\n",
    "path = 'data/ai_challenger_pdr2018_testA_20180905/AgriculturalDisease_testA/images'\n",
    "files = os.listdir(path)\n",
    "with tqdm(total=len(files)) as pbar:\n",
    "    for img_id in files:\n",
    "        img_path = os.path.join(path, img_id)\n",
    "        img = Image.open(img_path)\n",
    "        compose = transforms.Compose([\n",
    "            transforms.Resize([224, 224]),\n",
    "            transforms.ToTensor(),\n",
    "            transforms.Normalize(\n",
    "                mean=[0.39883098, 0.48478258, 0.46141425],\n",
    "                std=[0.21294028, 0.17201832, 0.1934495])\n",
    "        ])\n",
    "        img_tensor = compose(img)\n",
    "        img_tensor = img_tensor[None, :, :, :]\n",
    "        species_res = species_model.test(img_tensor).cpu().data.numpy()\n",
    "        species_pred_class = int(np.argmax(species_res, axis=1)[0])\n",
    "\n",
    "        # apple\n",
    "        if species_pred_class == 0:\n",
    "            res = apple_model.test(img_tensor).cpu().data.numpy()\n",
    "            pred_class = int(np.argmax(res, axis=1)[0])\n",
    "            pred_class = pred_class + 0\n",
    "\n",
    "        # cherry\n",
    "        elif species_pred_class == 1:\n",
    "            res = cherry_model.test(img_tensor).cpu().data.numpy()\n",
    "            pred_class = int(np.argmax(res, axis=1)[0])\n",
    "            pred_class = pred_class + 6\n",
    "\n",
    "        # corn\n",
    "        elif species_pred_class == 2:\n",
    "            res = corn_model.test(img_tensor).cpu().data.numpy()\n",
    "            pred_class = int(np.argmax(res, axis=1)[0])\n",
    "            pred_class = pred_class + 9\n",
    "\n",
    "        # grape\n",
    "        elif species_pred_class == 3:\n",
    "            res = grape_model.test(img_tensor).cpu().data.numpy()\n",
    "            pred_class = int(np.argmax(res, axis=1)[0])\n",
    "            pred_class = pred_class + 17\n",
    "\n",
    "        # citrus\n",
    "        elif species_pred_class == 4:\n",
    "            res = citrus_model.test(img_tensor).cpu().data.numpy()\n",
    "            pred_class = int(np.argmax(res, axis=1)[0])\n",
    "            pred_class = pred_class + 24\n",
    "\n",
    "        # peach\n",
    "        elif species_pred_class == 5:\n",
    "            res = peach_model.test(img_tensor).cpu().data.numpy()\n",
    "            pred_class = int(np.argmax(res, axis=1)[0])\n",
    "            pred_class = pred_class + 27\n",
    "\n",
    "        # pepper\n",
    "        elif species_pred_class == 6:\n",
    "            res = pepper_model.test(img_tensor).cpu().data.numpy()\n",
    "            pred_class = int(np.argmax(res, axis=1)[0])\n",
    "            pred_class = pred_class + 30\n",
    "\n",
    "        # potato\n",
    "        elif species_pred_class == 7:\n",
    "            res = potato_model.test(img_tensor).cpu().data.numpy()\n",
    "            pred_class = int(np.argmax(res, axis=1)[0])\n",
    "            pred_class = pred_class + 33\n",
    "\n",
    "        # strawberry\n",
    "        elif species_pred_class == 8:\n",
    "            res = strawberry_model.test(img_tensor).cpu().data.numpy()\n",
    "            pred_class = int(np.argmax(res, axis=1)[0])\n",
    "            pred_class = pred_class + 38\n",
    "\n",
    "         # tomato\n",
    "        elif species_pred_class == 9:\n",
    "            res = tomato_model.test(img_tensor).cpu().data.numpy()\n",
    "            pred_class = int(np.argmax(res, axis=1)[0])\n",
    "            pred_class = pred_class + 41\n",
    "\n",
    "        res_json.append({\"image_id\": img_id, \"disease_class\": pred_class})\n",
    "        pbar.update(1)\n",
    "        pbar.set_description(\n",
    "            \"Processing {}, Prediction {}\".format(img_id, pred_class))"
   ]
  },
  {
   "cell_type": "markdown",
   "metadata": {},
   "source": [
    "# save json"
   ]
  },
  {
   "cell_type": "code",
   "execution_count": 28,
   "metadata": {},
   "outputs": [],
   "source": [
    "run_timestamp = datetime.now().strftime(\"%Y%b%d-%H%M%S\")\n",
    "with open('submit/{}.json'.format(run_timestamp), 'w') as json_file:\n",
    "    json.dump(res_json, json_file)"
   ]
  },
  {
   "cell_type": "code",
   "execution_count": null,
   "metadata": {},
   "outputs": [],
   "source": []
  }
 ],
 "metadata": {
  "kernelspec": {
   "display_name": "Python 3",
   "language": "python",
   "name": "python3"
  },
  "language_info": {
   "codemirror_mode": {
    "name": "ipython",
    "version": 3
   },
   "file_extension": ".py",
   "mimetype": "text/x-python",
   "name": "python",
   "nbconvert_exporter": "python",
   "pygments_lexer": "ipython3",
   "version": "3.6.5"
  }
 },
 "nbformat": 4,
 "nbformat_minor": 2
}
