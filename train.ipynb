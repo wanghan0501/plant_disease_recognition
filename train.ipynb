{
 "cells": [
  {
   "cell_type": "code",
   "execution_count": null,
   "metadata": {},
   "outputs": [],
   "source": [
    "from utils.parse import parse_yaml\n",
    "import torch\n",
    "import re\n",
    "from models.resnet50v2_sn_model import Model"
   ]
  },
  {
   "cell_type": "code",
   "execution_count": null,
   "metadata": {},
   "outputs": [],
   "source": [
    "config = parse_yaml()\n",
    "model = Model(config)\n",
    "ckpt = torch.load('pretrained/resnet50v2_sn.pth')\n",
    "pretrained_dict = ckpt['state_dict']\n",
    "model_dict = model.net.state_dict()\n",
    "patten = re.compile(r'(?!fc)')\n",
    "for key in list(pretrained_dict.keys()):\n",
    "    cur_key = key[7:]\n",
    "    res = patten.match(cur_key)\n",
    "    if res:\n",
    "        model_dict[cur_key] = pretrained_dict[key]\n",
    "model_dict = model.net.load_state_dict(model_dict, strict=False)"
   ]
  },
  {
   "cell_type": "code",
   "execution_count": null,
   "metadata": {},
   "outputs": [],
   "source": [
    "model.train()"
   ]
  }
 ],
 "metadata": {
  "kernelspec": {
   "display_name": "Python 3",
   "language": "python",
   "name": "python3"
  },
  "language_info": {
   "codemirror_mode": {
    "name": "ipython",
    "version": 3
   },
   "file_extension": ".py",
   "mimetype": "text/x-python",
   "name": "python",
   "nbconvert_exporter": "python",
   "pygments_lexer": "ipython3",
   "version": "3.6.5"
  }
 },
 "nbformat": 4,
 "nbformat_minor": 2
}
