{
 "cells": [
  {
   "cell_type": "code",
   "execution_count": 1,
   "metadata": {},
   "outputs": [],
   "source": [
    "import numpy as np"
   ]
  },
  {
   "cell_type": "code",
   "execution_count": 2,
   "metadata": {},
   "outputs": [],
   "source": [
    "def weight(x):\n",
    "    \"\"\"Compute softmax values for each sets of scores in x.\"\"\"\n",
    "    return  np.max(x)/x"
   ]
  },
  {
   "cell_type": "code",
   "execution_count": 3,
   "metadata": {
    "scrolled": true
   },
   "outputs": [
    {
     "name": "stdout",
     "output_type": "stream",
     "text": [
      "apple  [1.0, 5.61611374407583, 7.796052631578948, 2.775175644028103, 8.345070422535212, 29.625]\n"
     ]
    }
   ],
   "source": [
    "apple = np.array([1185,  211,  152,  427,  142,  40])\n",
    "print(\"apple \",weight(apple/np.sum(apple)).tolist())"
   ]
  },
  {
   "cell_type": "code",
   "execution_count": 4,
   "metadata": {},
   "outputs": [
    {
     "name": "stdout",
     "output_type": "stream",
     "text": [
      "apple  [1.0, 13.412322274881516, 18.61842105263158, 2.700381679389313, 19.929577464788736, 70.75]\n"
     ]
    }
   ],
   "source": [
    "extra_apple = np.array([2830,  211,  152,  1048,  142,  40])\n",
    "print(\"apple \",weight(extra_apple/np.sum(extra_apple)).tolist())"
   ]
  },
  {
   "cell_type": "code",
   "execution_count": 5,
   "metadata": {},
   "outputs": [
    {
     "name": "stdout",
     "output_type": "stream",
     "text": [
      "cherry  [1.0, 3.691358024691358, 3.9084967320261437]\n"
     ]
    }
   ],
   "source": [
    "cherry = np.array([598, 162, 153])\n",
    "print(\"cherry \", weight(cherry/np.sum(cherry)).tolist())"
   ]
  },
  {
   "cell_type": "code",
   "execution_count": 6,
   "metadata": {},
   "outputs": [
    {
     "name": "stdout",
     "output_type": "stream",
     "text": [
      "cherry  [1.0, 8.962962962962962, 9.490196078431373]\n"
     ]
    }
   ],
   "source": [
    "extra_cherry = np.array([1452, 162, 153])\n",
    "print(\"cherry \", weight(extra_cherry/np.sum(extra_cherry)).tolist())"
   ]
  },
  {
   "cell_type": "code",
   "execution_count": 7,
   "metadata": {},
   "outputs": [
    {
     "name": "stdout",
     "output_type": "stream",
     "text": [
      "citrus  [5.100817438692098, 1.0, 1.0184983677910773]\n"
     ]
    }
   ],
   "source": [
    "citrus = np.array([367, 1872, 1838])\n",
    "print(\"citrus \", weight(citrus/np.sum(citrus)).tolist())"
   ]
  },
  {
   "cell_type": "code",
   "execution_count": 8,
   "metadata": {},
   "outputs": [
    {
     "name": "stdout",
     "output_type": "stream",
     "text": [
      "corn  [2.167553191489362, 4.267015706806283, 4.880239520958083, 1.6873706004140787, 2.295774647887324, 3.918269230769231, 1.6332665330661322, 1.0]\n"
     ]
    }
   ],
   "source": [
    "corn = np.array([376, 191, 167, 483, 355, 208, 499, 815])\n",
    "print(\"corn \", weight(corn/np.sum(corn)).tolist())"
   ]
  },
  {
   "cell_type": "code",
   "execution_count": 9,
   "metadata": {},
   "outputs": [
    {
     "name": "stdout",
     "output_type": "stream",
     "text": [
      "corn  [1.0, 8.052356020942408, 9.209580838323353, 3.1842650103519667, 4.3323943661971835, 7.39423076923077, 3.082164328657315, 1.8871165644171781]\n"
     ]
    }
   ],
   "source": [
    "extra_corn = np.array([1538, 191, 167, 483, 355, 208, 499, 815])\n",
    "print(\"corn \", weight(extra_corn/np.sum(extra_corn)).tolist())"
   ]
  },
  {
   "cell_type": "code",
   "execution_count": 10,
   "metadata": {},
   "outputs": [
    {
     "name": "stdout",
     "output_type": "stream",
     "text": [
      "grape  [2.142857142857143, 1.6535433070866143, 1.3636363636363638, 1.2328767123287672, 1.4754098360655739, 10.327868852459016, 1.0]\n"
     ]
    }
   ],
   "source": [
    "grape = np.array([294, 381, 462, 511, 427, 61, 630])\n",
    "print(\"grape \", weight(grape/np.sum(grape)).tolist())"
   ]
  },
  {
   "cell_type": "code",
   "execution_count": 11,
   "metadata": {},
   "outputs": [
    {
     "name": "stdout",
     "output_type": "stream",
     "text": [
      "grape  [1.0, 1.8818897637795275, 1.551948051948052, 1.4031311154598824, 1.6791569086651053, 11.754098360655737, 1.138095238095238]\n"
     ]
    }
   ],
   "source": [
    "extra_grape = np.array([717, 381, 462, 511, 427, 61, 630])\n",
    "print(\"grape \", weight(extra_grape/np.sum(extra_grape)).tolist())"
   ]
  },
  {
   "cell_type": "code",
   "execution_count": 12,
   "metadata": {},
   "outputs": [
    {
     "name": "stdout",
     "output_type": "stream",
     "text": [
      "peach  [3.414342629482072, 1.0, 1.1129870129870132]\n"
     ]
    }
   ],
   "source": [
    "peach = np.array([251, 857, 770])\n",
    "print(\"peach \", weight(peach/np.sum(peach)).tolist())"
   ]
  },
  {
   "cell_type": "code",
   "execution_count": 13,
   "metadata": {},
   "outputs": [
    {
     "name": "stdout",
     "output_type": "stream",
     "text": [
      "peach  [1.402618657937807, 1.0, 1.112987012987013]\n"
     ]
    }
   ],
   "source": [
    "extra_peach = np.array([611, 857, 770])\n",
    "print(\"peach \", weight(extra_peach/np.sum(extra_peach)).tolist())"
   ]
  },
  {
   "cell_type": "code",
   "execution_count": 14,
   "metadata": {},
   "outputs": [
    {
     "name": "stdout",
     "output_type": "stream",
     "text": [
      "pepper  [1.0, 3.5714285714285716, 2.7188328912466844]\n"
     ]
    }
   ],
   "source": [
    "pepper = np.array([1025, 287, 377])\n",
    "print(\"pepper \", weight(pepper/np.sum(pepper)).tolist())"
   ]
  },
  {
   "cell_type": "code",
   "execution_count": 15,
   "metadata": {},
   "outputs": [
    {
     "name": "stdout",
     "output_type": "stream",
     "text": [
      "pepper  [1.0, 8.721254355400697, 6.639257294429709]\n"
     ]
    }
   ],
   "source": [
    "extra_pepper = np.array([2503, 287, 377])\n",
    "print(\"pepper \", weight(extra_pepper/np.sum(extra_pepper)).tolist())"
   ]
  },
  {
   "cell_type": "code",
   "execution_count": 16,
   "metadata": {},
   "outputs": [
    {
     "name": "stdout",
     "output_type": "stream",
     "text": [
      "potato  [1.0, 7.044334975369458, 2.803921568627451, 5.697211155378486, 3.2062780269058293]\n"
     ]
    }
   ],
   "source": [
    "potato = np.array([1430, 203, 510, 251, 446])\n",
    "print(\"potato \",  weight(potato/np.sum(potato)).tolist())"
   ]
  },
  {
   "cell_type": "code",
   "execution_count": 17,
   "metadata": {},
   "outputs": [
    {
     "name": "stdout",
     "output_type": "stream",
     "text": [
      "potato  [1.0, 7.793103448275862, 3.1019607843137256, 6.302788844621513, 3.5470852017937213]\n"
     ]
    }
   ],
   "source": [
    "extra_potato = np.array([1582, 203, 510, 251, 446])\n",
    "print(\"potato \",  weight(extra_potato/np.sum(extra_potato)).tolist())"
   ]
  },
  {
   "cell_type": "code",
   "execution_count": 18,
   "metadata": {},
   "outputs": [
    {
     "name": "stdout",
     "output_type": "stream",
     "text": [
      "straw  [2.409090909090909, 3.0364583333333335, 1.0]\n"
     ]
    }
   ],
   "source": [
    "straw = np.array([242, 192, 583])\n",
    "print(\"straw \",  weight(straw/np.sum(straw)).tolist())"
   ]
  },
  {
   "cell_type": "code",
   "execution_count": 19,
   "metadata": {},
   "outputs": [
    {
     "name": "stdout",
     "output_type": "stream",
     "text": [
      "straw  [1.0, 3.635416666666667, 1.1972555746140652]\n"
     ]
    }
   ],
   "source": [
    "extra_straw = np.array([698, 192, 583])\n",
    "print(\"straw \",  weight(extra_straw/np.sum(extra_straw)).tolist())"
   ]
  },
  {
   "cell_type": "code",
   "execution_count": 20,
   "metadata": {},
   "outputs": [
    {
     "name": "stdout",
     "output_type": "stream",
     "text": [
      "tomato  [2.047185430463576, 7.752351097178684, 2.560041407867495, 10.52340425531915, 13.587912087912088, 9.852589641434262, 5.59502262443439, 9.367424242424244, 2.2299368800721373, 7.60923076923077, 7.3601190476190474, 8.081699346405228, 14.051136363636363, 5.8741092636579575, 3.064436183395291, 4.562730627306273, 9.125461254612546, 1.7489391796322489, 1.0, 9.475095785440613]\n"
     ]
    }
   ],
   "source": [
    "tomato = np.array([1208, 319, 966, 235, 182, 251, 442, 264, 1109,\n",
    "                   325, 336, 306, 176, 421, 807, 542, 271, 1414, 2473, 261])\n",
    "print(\"tomato \",  weight(tomato/np.sum(tomato)).tolist())"
   ]
  },
  {
   "cell_type": "code",
   "execution_count": 21,
   "metadata": {},
   "outputs": [
    {
     "name": "stdout",
     "output_type": "stream",
     "text": [
      "tomato  [1.0, 8.774294670846395, 2.897515527950311, 11.91063829787234, 15.379120879120878, 11.151394422310757, 6.332579185520362, 10.602272727272727, 2.5238954012623984, 8.612307692307692, 8.330357142857142, 9.147058823529411, 15.903409090909092, 6.648456057007126, 3.4684014869888475, 5.1642066420664205, 10.328413284132841, 1.9794908062234795, 1.1318236959158916, 4.414826498422713]\n"
     ]
    }
   ],
   "source": [
    "extra_tomato = np.array([2799, 319, 966, 235, 182, 251, 442, 264, 1109,\n",
    "                   325, 336, 306, 176, 421, 807, 542, 271, 1414, 2473, 634])\n",
    "print(\"tomato \",  weight(extra_tomato/np.sum(extra_tomato)).tolist())"
   ]
  },
  {
   "cell_type": "code",
   "execution_count": null,
   "metadata": {},
   "outputs": [],
   "source": []
  }
 ],
 "metadata": {
  "kernelspec": {
   "display_name": "Python 3",
   "language": "python",
   "name": "python3"
  },
  "language_info": {
   "codemirror_mode": {
    "name": "ipython",
    "version": 3
   },
   "file_extension": ".py",
   "mimetype": "text/x-python",
   "name": "python",
   "nbconvert_exporter": "python",
   "pygments_lexer": "ipython3",
   "version": "3.6.5"
  }
 },
 "nbformat": 4,
 "nbformat_minor": 2
}
