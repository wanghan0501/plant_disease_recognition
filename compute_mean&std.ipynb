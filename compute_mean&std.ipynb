{
 "cells": [
  {
   "cell_type": "code",
   "execution_count": null,
   "metadata": {},
   "outputs": [],
   "source": [
    "import cv2\n",
    "import numpy as np\n",
    "import pandas as pd\n",
    "import os"
   ]
  },
  {
   "cell_type": "code",
   "execution_count": null,
   "metadata": {},
   "outputs": [],
   "source": [
    "path = 'data/ai_challenger_pdr2018_trainingset_20180905/AgriculturalDisease_trainingset/AgriculturalDisease_train_annotations.json'\n",
    "disease_data = pd.read_json(path)\n",
    "\n",
    "data = []\n",
    "for index, row in disease_data.iterrows():\n",
    "    img = cv2.imread(os.path.join(\n",
    "        'data/ai_challenger_pdr2018_trainingset_20180905/AgriculturalDisease_trainingset/images', row['image_id']))\n",
    "    img = cv2.resize(img, (224, 224), interpolation=cv2.INTER_CUBIC)\n",
    "    data.append(img)\n",
    "data = np.stack(data, axis=0)\n",
    "data = data.astype(np.float32) / 255\n",
    "\n",
    "means = []\n",
    "stdevs = []\n",
    "for i in range(3):\n",
    "    pixels = data[:, :, :, i].ravel()\n",
    "    means.append(np.mean(pixels))\n",
    "    stdevs.append(np.std(pixels))\n",
    "\n",
    "print(\"means: {}\".format(means[::-1]))\n",
    "print(\"stdevs: {}\".format(stdevs[::-1]))\n",
    "print('transforms.Normalize(mean = {}, std = {})'.format(means[::-1], stdevs[::-1]))"
   ]
  },
  {
   "cell_type": "code",
   "execution_count": null,
   "metadata": {},
   "outputs": [],
   "source": []
  }
 ],
 "metadata": {
  "kernelspec": {
   "display_name": "Python 3",
   "language": "python",
   "name": "python3"
  },
  "language_info": {
   "codemirror_mode": {
    "name": "ipython",
    "version": 3
   },
   "file_extension": ".py",
   "mimetype": "text/x-python",
   "name": "python",
   "nbconvert_exporter": "python",
   "pygments_lexer": "ipython3",
   "version": "3.6.5"
  }
 },
 "nbformat": 4,
 "nbformat_minor": 2
}
