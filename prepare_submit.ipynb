{
 "cells": [
  {
   "cell_type": "code",
   "execution_count": 1,
   "metadata": {},
   "outputs": [],
   "source": [
    "import pandas as pd\n",
    "import os\n",
    "import torch\n",
    "from utils.parse import parse_yaml\n",
    "import json\n",
    "import numpy as np\n",
    "from models.resnet50v2_sn_model import Model\n",
    "from tqdm import tqdm\n",
    "from PIL import Image\n",
    "from datetime import datetime\n",
    "from torchvision import datasets, transforms\n",
    "from torch.utils.data import DataLoader\n",
    "tqdm.monitor_interval = 0"
   ]
  },
  {
   "cell_type": "markdown",
   "metadata": {},
   "source": [
    "# load config"
   ]
  },
  {
   "cell_type": "code",
   "execution_count": 2,
   "metadata": {},
   "outputs": [],
   "source": [
    "config = parse_yaml()\n",
    "config = config['whole']\n",
    "config['logger']=False\n",
    "config['use_tensorboard']=False"
   ]
  },
  {
   "cell_type": "markdown",
   "metadata": {},
   "source": [
    "# load model"
   ]
  },
  {
   "cell_type": "code",
   "execution_count": 3,
   "metadata": {},
   "outputs": [
    {
     "name": "stdout",
     "output_type": "stream",
     "text": [
      ">>> Load model completion.\n"
     ]
    }
   ],
   "source": [
    "model = Model(config)\n",
    "model.load('ckpt/2018Oct16-183555/17.pth')"
   ]
  },
  {
   "cell_type": "markdown",
   "metadata": {},
   "source": [
    "# evaluation"
   ]
  },
  {
   "cell_type": "code",
   "execution_count": 4,
   "metadata": {},
   "outputs": [
    {
     "name": "stderr",
     "output_type": "stream",
     "text": [
      "Processing ab916331-4f8d-4993-a333-85503ad30362___FAM_B.Msls 4165.JPG, Prediction 21: 100%|██████████| 4959/4959 [05:42<00:00, 14.50it/s]              \n"
     ]
    }
   ],
   "source": [
    "res_json = []\n",
    "path = 'data/ai_challenger_pdr2018_testA_20180905/AgriculturalDisease_testA/images'\n",
    "files = os.listdir(path)\n",
    "with tqdm(total=len(files)) as pbar:\n",
    "    for img_id in files:\n",
    "        img_path = os.path.join(path, img_id)\n",
    "        img = Image.open(img_path)\n",
    "        compose = transforms.Compose([\n",
    "            transforms.Resize([224, 224]),\n",
    "            transforms.ToTensor(),\n",
    "            transforms.Normalize(\n",
    "                mean=[0.39883098, 0.48478258, 0.46141425],\n",
    "                std=[0.21294028, 0.17201832, 0.1934495])\n",
    "        ])\n",
    "        img_tensor = compose(img)\n",
    "        img_tensor = img_tensor[None, :, :, :]\n",
    "        res = model.test(img_tensor).cpu().data.numpy()\n",
    "        pred_class = int(np.argmax(res, axis=1)[0])\n",
    "        res_json.append({\"image_id\": img_id, \"disease_class\": pred_class})\n",
    "        pbar.update(1)\n",
    "        pbar.set_description(\n",
    "            \"Processing {}, Prediction {}\".format(img_id, pred_class))"
   ]
  },
  {
   "cell_type": "markdown",
   "metadata": {},
   "source": [
    "# save json"
   ]
  },
  {
   "cell_type": "code",
   "execution_count": 5,
   "metadata": {},
   "outputs": [],
   "source": [
    "run_timestamp = datetime.now().strftime(\"%Y%b%d-%H%M%S\")\n",
    "with open('submit/{}.json'.format(run_timestamp), 'w') as json_file:\n",
    "    json.dump(res_json, json_file)"
   ]
  },
  {
   "cell_type": "code",
   "execution_count": null,
   "metadata": {},
   "outputs": [],
   "source": []
  }
 ],
 "metadata": {
  "kernelspec": {
   "display_name": "Python 3",
   "language": "python",
   "name": "python3"
  },
  "language_info": {
   "codemirror_mode": {
    "name": "ipython",
    "version": 3
   },
   "file_extension": ".py",
   "mimetype": "text/x-python",
   "name": "python",
   "nbconvert_exporter": "python",
   "pygments_lexer": "ipython3",
   "version": "3.6.5"
  }
 },
 "nbformat": 4,
 "nbformat_minor": 2
}
